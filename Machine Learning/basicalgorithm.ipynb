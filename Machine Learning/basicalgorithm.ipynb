{
 "cells": [
  {
   "cell_type": "markdown",
   "metadata": {},
   "source": [
    "# 机器学习基本算法\n",
    "https://zhuanlan.zhihu.com/p/33794257\n",
    "\n",
    "https://riboseyim.github.io/2018/02/10/Machine-Learning-Algorithms/\n",
    "两个地址代码比较全\n"
   ]
  },
  {
   "cell_type": "markdown",
   "metadata": {},
   "source": [
    "# K - 近邻算法\n"
   ]
  },
  {
   "cell_type": "code",
   "execution_count": 1,
   "metadata": {},
   "outputs": [
    {
     "name": "stdout",
     "output_type": "stream",
     "text": [
      "[[1.  1.1]\n",
      " [1.  1. ]\n",
      " [0.  0. ]\n",
      " [0.  0.1]]\n",
      "['A', 'A', 'B', 'B']\n"
     ]
    }
   ],
   "source": [
    "# K - 近邻算法不借助工具库skilearn实现\n",
    "\n",
    "\n",
    "import numpy as np\n",
    "def createDataset():\n",
    "    group=np.array([[1.0,1.1],[1.0,1.0],[0,0],[0,0.1]])\n",
    "    labels=['A','A','B','B']\n",
    "    return group,labels\n",
    "\n",
    "group,labels=createDataset()\n",
    "print(group)\n",
    "print(labels)\n"
   ]
  },
  {
   "cell_type": "code",
   "execution_count": 15,
   "metadata": {},
   "outputs": [
    {
     "name": "stdout",
     "output_type": "stream",
     "text": [
      "[8]\n",
      "8\n"
     ]
    }
   ],
   "source": [
    "#借助sklearn实现\n",
    "from sklearn import datasets\n",
    "from sklearn.neighbors import KNeighborsClassifier\n",
    "\n",
    "#digit dataset from sklearn\n",
    "digits = datasets.load_digits()\n",
    "\n",
    "#create the  KNeighborsClassifier\n",
    "clf = KNeighborsClassifier(n_neighbors=6)\n",
    "\n",
    "#set training set\n",
    "x, y = digits.data[:-1], digits.target[:-1]\n",
    "\n",
    "#train model\n",
    "clf.fit(x, y)\n",
    "\n",
    "#predict\n",
    "y_pred = clf.predict([digits.data[-1]])\n",
    "y_true = digits.target[-1]\n",
    "\n",
    "print(y_pred)\n",
    "print(y_true)"
   ]
  },
  {
   "cell_type": "markdown",
   "metadata": {},
   "source": [
    "# 线性回归算法"
   ]
  },
  {
   "cell_type": "code",
   "execution_count": 56,
   "metadata": {},
   "outputs": [
    {
     "name": "stdout",
     "output_type": "stream",
     "text": [
      "0.262245320598098\n",
      "0.0035586633881540632\n"
     ]
    },
    {
     "data": {
      "text/plain": [
       "[<matplotlib.lines.Line2D at 0x2a855bc09d0>]"
      ]
     },
     "execution_count": 56,
     "metadata": {},
     "output_type": "execute_result"
    },
    {
     "data": {
      "image/png": "[encoded data removed]",
      "text/plain": [
       "<Figure size 432x288 with 1 Axes>"
      ]
     },
     "metadata": {
      "needs_background": "light"
     },
     "output_type": "display_data"
    }
   ],
   "source": [
    "\n",
    "# 不借助 skearn自带的算法 自己实现\n",
    "#线性回归梯度下降\n",
    "\n",
    "import pandas\n",
    "from pandas.plotting import scatter_matrix\n",
    "from matplotlib import pyplot\n",
    "from sklearn.model_selection import train_test_split\n",
    "\n",
    "\n",
    "#导入数据\n",
    "filename = 'iris.data.csv'\n",
    "#为每个特征设计名称\n",
    "names = ['separ-length', 'separ-width', 'petal-length', 'petal-width', 'class']\n",
    "dataset = pandas.read_csv(filename, names=names)\n",
    "\n",
    "\n",
    "datas = dataset.values\n",
    "X = datas[:, 0:3]  # 0-3列  特征\n",
    "Y = datas[:, 3]  # 结果\n",
    "num_futures = X.shape[1]\n",
    "\n",
    "#theta参数 特征\n",
    "theta = np.zeros(num_futures)\n",
    "num_iterations = 100  # 迭代次数\n",
    "alpha = 0.01  # 学习率\n",
    "\n",
    "for _ in range(num_iterations):\n",
    "    for _ in range(num_futures):\n",
    "        num_train = X.shape[0]\n",
    "        prediction = np.dot(X, theta)\n",
    "        delta = prediction-Y\n",
    "        theta =theta- alpha*(1.0/num_train)*(np.dot(delta,X))\n",
    "\n",
    "pre=np.dot(X,theta)\n",
    "loss=pre-Y\n",
    "print(pre[1])\n",
    "print(loss.mean())\n",
    "pyplot.plot(loss)\n",
    "#由于数据本身就不是线性的 误差很大 很正常"
   ]
  },
  {
   "cell_type": "code",
   "execution_count": 11,
   "metadata": {},
   "outputs": [
    {
     "name": "stdout",
     "output_type": "stream",
     "text": [
      "预测值：\n",
      "[8.86342983]\n",
      "真实值：\n",
      "8\n"
     ]
    }
   ],
   "source": [
    "# #线性回归\n",
    "# #线性回归（LR）\n",
    "# 线性判别分析（LDA）\n",
    "# K近邻（KNN）\n",
    "# 分类与回归树（CART）\n",
    "# 贝叶斯分类器（NB）\n",
    "# 支持向量机（SVM）\n",
    "from sklearn import linear_model ,datasets\n",
    "digits=datasets.load_digits()\n",
    "# #查看数据\n",
    "# print('数据维度：行 %s,列 %s'% digits.data.shape)\n",
    "# print(digits.data)\n",
    "\n",
    "x,y=digits.data[:-1],digits.target[:-1]\n",
    "# print(x)\n",
    "# print(y)\n",
    "\n",
    "clf=linear_model.LinearRegression()\n",
    "clf.fit(x,y)\n",
    "y_pred=clf.predict([digits.data[-1]])\n",
    "y_true=digits.target[-1]\n",
    "print(\"预测值：\")\n",
    "print(y_pred)\n",
    "print(\"真实值：\")\n",
    "print(y_true)\n"
   ]
  },
  {
   "cell_type": "markdown",
   "metadata": {},
   "source": [
    "# 决策树算法"
   ]
  },
  {
   "cell_type": "code",
   "execution_count": null,
   "metadata": {},
   "outputs": [],
   "source": [
    "#决策树算法"
   ]
  },
  {
   "cell_type": "markdown",
   "metadata": {},
   "source": [
    "# 朴素贝叶斯算法"
   ]
  },
  {
   "cell_type": "code",
   "execution_count": null,
   "metadata": {},
   "outputs": [],
   "source": []
  }
 ],
 "metadata": {
  "kernelspec": {
   "display_name": "Python 3.9.12 ('base')",
   "language": "python",
   "name": "python3"
  },
  "language_info": {
   "codemirror_mode": {
    "name": "ipython",
    "version": 3
   },
   "file_extension": ".py",
   "mimetype": "text/x-python",
   "name": "python",
   "nbconvert_exporter": "python",
   "pygments_lexer": "ipython3",
   "version": "3.9.12"
  },
  "orig_nbformat": 4,
  "vscode": {
   "interpreter": {
    "hash": "69bb97da4de94df22ae65d06c67ef6996e1f79654e85ad82e04941bca86bd84d"
   }
  }
 },
 "nbformat": 4,
 "nbformat_minor": 2
}
